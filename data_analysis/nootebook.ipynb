{
 "cells": [
  {
   "cell_type": "code",
   "execution_count": 1,
   "metadata": {},
   "outputs": [],
   "source": [
    "import pandas as pd\n",
    "import numpy as np\n",
    "import unittest\n",
    "from search_trend_analysis.analysis import SearchTrendAnalysis\n",
    "from tests.test_analysis import TestSearchTrendAnalysis\n"
   ]
  },
  {
   "cell_type": "code",
   "execution_count": 2,
   "metadata": {},
   "outputs": [
    {
     "name": "stderr",
     "output_type": "stream",
     "text": [
      "INFO:root:Выполнение wrapper с аргументами (<search_trend_analysis.analysis.SearchTrendAnalysis object at 0x000002032C20F4A0>,), {'window': 3}\n",
      "INFO:root:moving_average выполнена за 0.0042 секунд\n",
      "INFO:root:wrapper завершена\n",
      "INFO:root:Выполнение wrapper с аргументами (<search_trend_analysis.analysis.SearchTrendAnalysis object at 0x000002032C20F4A0>,), {}\n",
      "INFO:root:differentiate выполнена за 0.0010 секунд\n",
      "INFO:root:wrapper завершена\n",
      "INFO:root:Выполнение wrapper с аргументами (<search_trend_analysis.analysis.SearchTrendAnalysis object at 0x000002032C20F4A0>,), {}\n",
      "INFO:root:find_extrema выполнена за 0.0010 секунд\n",
      "INFO:root:wrapper завершена\n",
      "INFO:root:Выполнение wrapper с аргументами (<search_trend_analysis.analysis.SearchTrendAnalysis object at 0x000002032C20F4A0>,), {}\n",
      "INFO:root:autocorrelation выполнена за 0.0010 секунд\n",
      "INFO:root:wrapper завершена\n"
     ]
    },
    {
     "data": {
      "text/html": [
       "<div>\n",
       "<style scoped>\n",
       "    .dataframe tbody tr th:only-of-type {\n",
       "        vertical-align: middle;\n",
       "    }\n",
       "\n",
       "    .dataframe tbody tr th {\n",
       "        vertical-align: top;\n",
       "    }\n",
       "\n",
       "    .dataframe thead th {\n",
       "        text-align: right;\n",
       "    }\n",
       "</style>\n",
       "<table border=\"1\" class=\"dataframe\">\n",
       "  <thead>\n",
       "    <tr style=\"text-align: right;\">\n",
       "      <th></th>\n",
       "      <th>moving_avg</th>\n",
       "      <th>difference</th>\n",
       "      <th>peaks</th>\n",
       "      <th>autocorrelation</th>\n",
       "    </tr>\n",
       "  </thead>\n",
       "  <tbody>\n",
       "    <tr>\n",
       "      <th>0</th>\n",
       "      <td>NaN</td>\n",
       "      <td>NaN</td>\n",
       "      <td>NaN</td>\n",
       "      <td>NaN</td>\n",
       "    </tr>\n",
       "    <tr>\n",
       "      <th>1</th>\n",
       "      <td>NaN</td>\n",
       "      <td>1.0</td>\n",
       "      <td>NaN</td>\n",
       "      <td>NaN</td>\n",
       "    </tr>\n",
       "    <tr>\n",
       "      <th>2</th>\n",
       "      <td>2.000000</td>\n",
       "      <td>1.0</td>\n",
       "      <td>NaN</td>\n",
       "      <td>NaN</td>\n",
       "    </tr>\n",
       "    <tr>\n",
       "      <th>3</th>\n",
       "      <td>3.333333</td>\n",
       "      <td>2.0</td>\n",
       "      <td>NaN</td>\n",
       "      <td>NaN</td>\n",
       "    </tr>\n",
       "    <tr>\n",
       "      <th>4</th>\n",
       "      <td>4.666667</td>\n",
       "      <td>1.0</td>\n",
       "      <td>NaN</td>\n",
       "      <td>NaN</td>\n",
       "    </tr>\n",
       "  </tbody>\n",
       "</table>\n",
       "</div>"
      ],
      "text/plain": [
       "   moving_avg  difference  peaks  autocorrelation\n",
       "0         NaN         NaN    NaN              NaN\n",
       "1         NaN         1.0    NaN              NaN\n",
       "2    2.000000         1.0    NaN              NaN\n",
       "3    3.333333         2.0    NaN              NaN\n",
       "4    4.666667         1.0    NaN              NaN"
      ]
     },
     "execution_count": 2,
     "metadata": {},
     "output_type": "execute_result"
    }
   ],
   "source": [
    "keywords = ['Python']\n",
    "analysis = SearchTrendAnalysis(keywords)\n",
    "analysis.data = pd.DataFrame({\n",
    "    'Python': [1, 2, 3, 5, 6, 7, 6, 5, 4, 3, 2, 1] * 22  # Искусственные данные для примера\n",
    "})\n",
    "\n",
    "analysis.moving_average(window=3)\n",
    "analysis.differentiate()\n",
    "analysis.find_extrema()\n",
    "analysis.autocorrelation()\n",
    "\n",
    "analysis.results.head()\n"
   ]
  },
  {
   "cell_type": "code",
   "execution_count": 3,
   "metadata": {},
   "outputs": [
    {
     "name": "stderr",
     "output_type": "stream",
     "text": [
      "INFO:root:Выполнение wrapper с аргументами (<search_trend_analysis.analysis.SearchTrendAnalysis object at 0x000002032DBF5D30>,), {}\n",
      "WARNING:root:Недостаточно места в результатах для вставки автокорреляции.\n",
      "INFO:root:autocorrelation выполнена за 0.0010 секунд\n",
      "INFO:root:wrapper завершена\n",
      ".INFO:root:Выполнение wrapper с аргументами (<search_trend_analysis.analysis.SearchTrendAnalysis object at 0x000002036B846180>,), {}\n",
      "INFO:root:differentiate выполнена за 0.0005 секунд\n",
      "INFO:root:wrapper завершена\n",
      ".INFO:root:Выполнение wrapper с аргументами (<search_trend_analysis.analysis.SearchTrendAnalysis object at 0x000002032C0BABA0>,), {'filename': 'test_results.xlsx'}\n",
      "INFO:root:export_to_excel выполнена за 0.3091 секунд\n",
      "INFO:root:wrapper завершена\n",
      ".INFO:root:Выполнение wrapper с аргументами (<search_trend_analysis.analysis.SearchTrendAnalysis object at 0x000002032C0B9CD0>,), {}\n",
      "INFO:root:find_extrema выполнена за 0.0010 секунд\n",
      "INFO:root:wrapper завершена\n",
      ".INFO:root:Выполнение wrapper с аргументами (<search_trend_analysis.analysis.SearchTrendAnalysis object at 0x000002032DBAE1E0>,), {'window': 3}\n",
      "INFO:root:moving_average выполнена за 0.0010 секунд\n",
      "INFO:root:wrapper завершена\n",
      ".\n",
      "----------------------------------------------------------------------\n",
      "Ran 5 tests in 2.324s\n",
      "\n",
      "OK\n"
     ]
    },
    {
     "data": {
      "text/plain": [
       "<unittest.runner.TextTestResult run=5 errors=0 failures=0>"
      ]
     },
     "execution_count": 3,
     "metadata": {},
     "output_type": "execute_result"
    }
   ],
   "source": [
    "suite = unittest.TestLoader().loadTestsFromTestCase(TestSearchTrendAnalysis)\n",
    "unittest.TextTestRunner().run(suite)"
   ]
  },
  {
   "cell_type": "code",
   "execution_count": 4,
   "metadata": {},
   "outputs": [
    {
     "name": "stderr",
     "output_type": "stream",
     "text": [
      "INFO:root:Выполнение wrapper с аргументами (<search_trend_analysis.analysis.SearchTrendAnalysis object at 0x000002032C20F4A0>,), {'filename': 'example_results.xlsx'}\n",
      "INFO:root:export_to_excel выполнена за 0.0350 секунд\n",
      "INFO:root:wrapper завершена\n"
     ]
    },
    {
     "data": {
      "text/plain": [
       "True"
      ]
     },
     "execution_count": 4,
     "metadata": {},
     "output_type": "execute_result"
    }
   ],
   "source": [
    "analysis.export_to_excel(filename='example_results.xlsx')\n",
    "import os\n",
    "os.path.exists('example_results.xlsx')\n"
   ]
  }
 ],
 "metadata": {
  "kernelspec": {
   "display_name": ".venv",
   "language": "python",
   "name": "python3"
  },
  "language_info": {
   "codemirror_mode": {
    "name": "ipython",
    "version": 3
   },
   "file_extension": ".py",
   "mimetype": "text/x-python",
   "name": "python",
   "nbconvert_exporter": "python",
   "pygments_lexer": "ipython3",
   "version": "3.12.1"
  }
 },
 "nbformat": 4,
 "nbformat_minor": 2
}
